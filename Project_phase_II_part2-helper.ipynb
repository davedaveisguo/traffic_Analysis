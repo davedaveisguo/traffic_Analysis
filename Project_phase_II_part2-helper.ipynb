{
 "cells": [
  {
   "cell_type": "code",
   "execution_count": 1,
   "metadata": {},
   "outputs": [],
   "source": [
    "import pandas as pd\n",
    "import re"
   ]
  },
  {
   "cell_type": "code",
   "execution_count": 2,
   "metadata": {},
   "outputs": [],
   "source": [
    "volume_df = pd.read_csv('volume_df.csv')"
   ]
  },
  {
   "cell_type": "markdown",
   "metadata": {},
   "source": [
    "### 4.2 Show traffic heatmap of 2018. (5 Marks)"
   ]
  },
  {
   "cell_type": "code",
   "execution_count": 3,
   "metadata": {},
   "outputs": [],
   "source": [
    "# process multistring into array of coordinates\n",
    "def get_coordinates(multistring):\n",
    "    list_coordinate=re.sub('[^-0-9, .]','',multistring).split(\",\")\n",
    "    coords=[]\n",
    "    for i in list_coordinate:\n",
    "        coord=list(float(j) for j in (i.strip().split(\" \")[::-1]))\n",
    "        coords.append(coord)\n",
    "        exit()\n",
    "    return coords"
   ]
  },
  {
   "cell_type": "code",
   "execution_count": 4,
   "metadata": {},
   "outputs": [],
   "source": [
    "# process the data to create:\n",
    "# lat lon volume dataframe for heatmap plotting\n",
    "def generate_volume_points_df(volume_df):\n",
    "    volume_points_df=pd.DataFrame(columns=['latitude','longitude','volume'])\n",
    "    for i in range(volume_df.shape[0]):\n",
    "        volume_coord=volume_df[\"multilinestring\"].values[i]\n",
    "        coor=get_coordinates(volume_coord)\n",
    "        for j in range(len(coor)):\n",
    "            coor[j].append(volume_df[\"VOLUME\"].values[i])\n",
    "            volume_points_df.loc[len(volume_points_df)]=coor[j]\n",
    "    return  volume_points_df"
   ]
  },
  {
   "cell_type": "code",
   "execution_count": 5,
   "metadata": {},
   "outputs": [],
   "source": [
    "# this line is causing kernel problem, maybe python cannot hold such hugh list?\n",
    "# volume_list=generate_traffic_volume_list(volume_df)\n",
    "volume_points_df = generate_volume_points_df(volume_df)\n",
    "volume_points_df.to_csv('volume_points_df.csv', index=False)"
   ]
  }
 ],
 "metadata": {
  "kernelspec": {
   "display_name": "Python 3",
   "language": "python",
   "name": "python3"
  },
  "language_info": {
   "codemirror_mode": {
    "name": "ipython",
    "version": 3
   },
   "file_extension": ".py",
   "mimetype": "text/x-python",
   "name": "python",
   "nbconvert_exporter": "python",
   "pygments_lexer": "ipython3",
   "version": "3.7.6"
  }
 },
 "nbformat": 4,
 "nbformat_minor": 4
}
